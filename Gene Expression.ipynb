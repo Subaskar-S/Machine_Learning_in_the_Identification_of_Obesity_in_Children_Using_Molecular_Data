{
 "cells": [
  {
   "cell_type": "code",
   "execution_count": 6,
   "id": "ebae2eaf",
   "metadata": {},
   "outputs": [
    {
     "name": "stdout",
     "output_type": "stream",
     "text": [
      "Conversion completed. CSV file saved to data.csv\n"
     ]
    }
   ],
   "source": [
    "import csv\n",
    "\n",
    "# Input and output file paths\n",
    "input_file_path = \"C:\\\\Users\\\\Subaskar_S\\\\Downloads\\\\New folder (4)\\\\GSM7142290_NORMO_5_counts.txt\"\n",
    "output_file_path = \"data.csv\"\n",
    "\n",
    "# Read data from the text file\n",
    "data = []\n",
    "with open(input_file_path, 'r') as file:\n",
    "    for line in file:\n",
    "        # Remove leading and trailing whitespaces, split by tab\n",
    "        row = line.strip().split('\\t')\n",
    "        data.append(row)\n",
    "\n",
    "# Write data to a CSV file\n",
    "with open(output_file_path, 'w', newline='') as csvfile:\n",
    "    csvwriter = csv.writer(csvfile, delimiter=',', quotechar='\"', quoting=csv.QUOTE_MINIMAL)\n",
    "    \n",
    "    # Write header\n",
    "    csvwriter.writerow(data[0])\n",
    "    \n",
    "    # Write the rest of the data\n",
    "    csvwriter.writerows(data[1:])\n",
    "\n",
    "print(f\"Conversion completed. CSV file saved to {output_file_path}\")"
   ]
  },
  {
   "cell_type": "code",
   "execution_count": null,
   "id": "979f6702",
   "metadata": {},
   "outputs": [],
   "source": []
  }
 ],
 "metadata": {
  "kernelspec": {
   "display_name": "Python 3 (ipykernel)",
   "language": "python",
   "name": "python3"
  },
  "language_info": {
   "codemirror_mode": {
    "name": "ipython",
    "version": 3
   },
   "file_extension": ".py",
   "mimetype": "text/x-python",
   "name": "python",
   "nbconvert_exporter": "python",
   "pygments_lexer": "ipython3",
   "version": "3.10.9"
  }
 },
 "nbformat": 4,
 "nbformat_minor": 5
}
